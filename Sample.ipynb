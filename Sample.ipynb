{
 "metadata": {
  "cite2c": {
   "citations": {
    "allium_vavilovii": {
     "DOI": "10.1023/A:1012034931024",
     "ISSN": "0925-9864",
     "URL": "http://dx.doi.org/10.1023/A:1012034931024",
     "abstract": "A wild onion species from Karaj valley east of Tehran istaxonomically described as Allium asarense R. M.Fritsch et Matin. Sharing the bubble-like inflated lower scapewith A. vavilovii, the newspecies differs by semi-cylindrical leaves and small flowerswith translucent greenish-yellow tepals from all other knownspecies of Allium sect.Cepa. Molecular data suggest a closerelationship to A. cepa(but to a lesser degree than A.vavilovii) and indicate a still weakerphylogenetic connection of A.oschaninii to the common onion. The questionabout the possible wild ancestor of A.cepa is discussed against this background, and akey for determination of the Oschaninii-alliance of sect. Cepa is presented.",
     "author": [
      {
       "family": "Fritsch",
       "given": "Reinhard M."
      },
      {
       "family": "Matin",
       "given": "Farideh"
      },
      {
       "family": "Klaas",
       "given": "Manfred"
      }
     ],
     "container-title": "Genetic Resources and Crop Evolution",
     "container-title-short": "Genet Resour Crop Evol",
     "issue": "4",
     "issued": {
      "day": 1,
      "month": 8,
      "year": 2001
     },
     "journalAbbreviation": "Genet Resour Crop Evol",
     "page": "401-408",
     "page-first": "401",
     "title": "Allium vavilovii M. Popov et Vved. and a new Iranian species are the closest among the known relatives of the common onion A. cepa L. (Alliaceae)",
     "type": "article-journal",
     "volume": "48"
    },
    "batpol": {
     "DOI": "10.1038/19648",
     "ISSN": "0028-0836",
     "URL": "http://dx.doi.org/10.1038/19648",
     "accessed": {
      "day": 31,
      "month": 8,
      "year": 2009
     },
     "author": [
      {
       "family": "von Helversen",
       "given": "Dagmar"
      },
      {
       "family": "von Helversen",
       "given": "Otto"
      }
     ],
     "container-title": "Nature",
     "container-title-short": "Nature",
     "issue": "6730",
     "issued": {
      "day": 29,
      "month": 4,
      "year": 1999
     },
     "journalAbbreviation": "Nature",
     "page": "759-760",
     "page-first": "759",
     "source": "Nature",
     "title": "Acoustic guide in bat-pollinated flower",
     "type": "article-journal",
     "volume": "398"
    }
   }
  },
  "name": "",
  "signature": "sha256:c76b90fcee298f3b0ee7c84944a3fccc845d25265531b752e77d49bd90dfad89"
 },
 "nbformat": 3,
 "nbformat_minor": 0,
 "worksheets": [
  {
   "cells": [
    {
     "cell_type": "code",
     "collapsed": false,
     "input": [
      "%%javascript\n",
      "IPython.load_extensions([\"cite2c/main\"]);"
     ],
     "language": "python",
     "metadata": {},
     "outputs": [
      {
       "javascript": [
        "IPython.load_extensions([\"cite2c/main\"]);"
       ],
       "metadata": {},
       "output_type": "display_data",
       "text": [
        "<IPython.core.display.Javascript object>"
       ]
      }
     ],
     "prompt_number": 2
    },
    {
     "cell_type": "markdown",
     "metadata": {},
     "source": [
      "## Bibliography\n",
      "\n",
      "<div id=\"cite2c-biblio\"/>"
     ]
    }
   ],
   "metadata": {}
  }
 ]
}